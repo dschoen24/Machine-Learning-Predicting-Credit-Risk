{
 "cells": [
  {
   "cell_type": "code",
   "execution_count": 1,
   "metadata": {},
   "outputs": [],
   "source": [
    "import warnings\n",
    "warnings.filterwarnings('ignore')"
   ]
  },
  {
   "cell_type": "code",
   "execution_count": 2,
   "metadata": {},
   "outputs": [],
   "source": [
    "import numpy as np\n",
    "import pandas as pd\n",
    "from pathlib import Path\n",
    "from collections import Counter"
   ]
  },
  {
   "cell_type": "code",
   "execution_count": null,
   "metadata": {},
   "outputs": [],
   "source": [
    "from sklearn.model_selection import train_test_split\n",
    "from sklearn.linear_model import LogisticRegression\n",
    "from sklearn.preprocessing import StandardScaler\n",
    "from sklearn.ensemble import RandomForestClassifier"
   ]
  },
  {
   "cell_type": "code",
   "execution_count": null,
   "metadata": {},
   "outputs": [],
   "source": [
    "# Create Data Frames for the 2 Files 2019 for Training & 2020 for Testing\n",
    "train_df = pd.read_csv(Path('2019loans.csv'))\n",
    "test_df = pd.read_csv(Path('2020Q1loans.csv'))"
   ]
  },
  {
   "cell_type": "markdown",
   "metadata": {},
   "source": [
    "Check Columns of the DataFrames"
   ]
  },
  {
   "cell_type": "code",
   "execution_count": null,
   "metadata": {},
   "outputs": [],
   "source": [
    "train_columns = train_df.columns\n",
    "test_columns = test_df.columns\n",
    "train_types = train_df.dtypes\n",
    "test_types = test_df.dtypes"
   ]
  },
  {
   "cell_type": "code",
   "execution_count": null,
   "metadata": {},
   "outputs": [],
   "source": [
    "compare_df = list(zip(train_columns, train_types, test_columns, test_types))\n",
    "compare_df"
   ]
  },
  {
   "cell_type": "markdown",
   "metadata": {},
   "source": [
    "Convert the Categorical Data to Numeric & Seperate the Training Target Feature"
   ]
  },
  {
   "cell_type": "code",
   "execution_count": null,
   "metadata": {},
   "outputs": [],
   "source": [
    "train_converted_df = pd.get_dummies(train_df)\n",
    "train_converted_df.head()"
   ]
  },
  {
   "cell_type": "code",
   "execution_count": null,
   "metadata": {},
   "outputs": [],
   "source": [
    "train_converted_columns = train_converted_df.columns"
   ]
  },
  {
   "cell_type": "markdown",
   "metadata": {},
   "source": [
    "Convert the Categorical Data to Numeric & Seperate the Testing Target Feature"
   ]
  },
  {
   "cell_type": "code",
   "execution_count": null,
   "metadata": {},
   "outputs": [],
   "source": [
    "test_converted_df = pd.get_dumies(test_df)\n",
    "test_converted_df.head()"
   ]
  },
  {
   "cell_type": "code",
   "execution_count": null,
   "metadata": {},
   "outputs": [],
   "source": [
    "test_converted_columns = test_converted_df.columns"
   ]
  },
  {
   "cell_type": "code",
   "execution_count": null,
   "metadata": {},
   "outputs": [],
   "source": [
    "compare_converted_df = list(zip(train_converted_columns, test_converted_columns))\n",
    "compare_converted_df"
   ]
  },
  {
   "cell_type": "markdown",
   "metadata": {},
   "source": [
    "Fill in the Missing Categories in the Testing Set"
   ]
  },
  {
   "cell_type": "code",
   "execution_count": null,
   "metadata": {},
   "outputs": [],
   "source": [
    "test_converted_df['debt_settlement_flag_Y'] = np.where(test_converted_df['debt_settlement_flag_N'] == 1, 0, 1)\n",
    "test_converted_df.head()"
   ]
  },
  {
   "cell_type": "markdown",
   "metadata": {},
   "source": [
    "Considering the Models"
   ]
  },
  {
   "cell_type": "markdown",
   "metadata": {},
   "source": [
    "Create a Logistic Regression Model (Unscaled Data) & Print the Model Score"
   ]
  },
  {
   "cell_type": "code",
   "execution_count": null,
   "metadata": {},
   "outputs": [],
   "source": [
    "train_converted_df.head()"
   ]
  },
  {
   "cell_type": "code",
   "execution_count": null,
   "metadata": {},
   "outputs": [],
   "source": [
    "# Assign the Train data to X and y\n",
    "# Reshape the data to create a two-dimensional array of values for Sklearn\n",
    "X = train_converted_df.drop(['target_high_risk', 'target_low_risk'], axis=1)\n",
    "y = train_converted_df['target_high_risk']   # outcome variable from training data\n",
    "\n",
    "print(\"Shape: \", X.shape, y.shape)"
   ]
  },
  {
   "cell_type": "code",
   "execution_count": null,
   "metadata": {},
   "outputs": [],
   "source": [
    "# Assign the Test data to X and y\n",
    "X_2 = test_converted_df.drop(['target_high_risk', 'target_low_risk'], axis=1)\n",
    "y_2 = test_converted_df['target_high_risk'] \n",
    "\n",
    "print(\"Shape: \", X_2.shape, y_2.shape)"
   ]
  },
  {
   "cell_type": "markdown",
   "metadata": {},
   "source": [
    "Splitting the data into Test - Train"
   ]
  },
  {
   "cell_type": "code",
   "execution_count": null,
   "metadata": {},
   "outputs": [],
   "source": [
    "X_train, X_test, y_train, y_test = train_test_split(X, y, random_state=7)"
   ]
  },
  {
   "cell_type": "code",
   "execution_count": null,
   "metadata": {},
   "outputs": [],
   "source": [
    "classifier= LogisticRegression(max_iter=20000)\n",
    "classifier"
   ]
  },
  {
   "cell_type": "code",
   "execution_count": null,
   "metadata": {},
   "outputs": [],
   "source": [
    "classifier.fit(X_train, y_train)"
   ]
  },
  {
   "cell_type": "code",
   "execution_count": null,
   "metadata": {},
   "outputs": [],
   "source": [
    "print(f\"Training Data Score: {classifier.score(X_train, y_train)}\")\n",
    "print(f\"Testing Data Score (from training set): {classifier.score(X_test, y_test)}\")\n",
    "print(f'First Quarter 2020 fit: {classifier.score(X_2, y_2)}')"
   ]
  },
  {
   "cell_type": "code",
   "execution_count": null,
   "metadata": {},
   "outputs": [],
   "source": [
    "# Set the Vars\n",
    "train_logistic = classifier.score(X_train, y_train)\n",
    "test_logistic = classifier.score(X_test, y_test)\n",
    "Q1_2020_logistic = classifier.score(X_2, y_2)"
   ]
  },
  {
   "cell_type": "markdown",
   "metadata": {},
   "source": [
    "Create a Random Forest Classifier Model (Unscaled Data) & Print the Model Score"
   ]
  },
  {
   "cell_type": "code",
   "execution_count": null,
   "metadata": {},
   "outputs": [],
   "source": []
  },
  {
   "cell_type": "code",
   "execution_count": null,
   "metadata": {},
   "outputs": [],
   "source": [
    "rfc = RandomForestClassifier(random_state=7, n_estimators=500).fit(X_train, y_train)\n",
    "print(f\"Training Data Score: {rfc.score(X_train, y_train)}\")\n",
    "print(f\"Testing Data Score (from training set): {rfc.score(X_test, y_test)}\")\n",
    "print(f'First Quarter 2020 fit: {rfc.score(X_2, y_2)}')"
   ]
  },
  {
   "cell_type": "code",
   "execution_count": null,
   "metadata": {},
   "outputs": [],
   "source": [
    "# Set the Vars\n",
    "train_rfc = rfc.score(X_train, y_train)\n",
    "test_rfc = rfc.score(X_test, y_test)\n",
    "Q1_2020_rfc = rfc.score(X_2, y_2)"
   ]
  },
  {
   "cell_type": "markdown",
   "metadata": {},
   "source": [
    "Revisit the Preprocessing & Scale the Data"
   ]
  },
  {
   "cell_type": "code",
   "execution_count": null,
   "metadata": {},
   "outputs": [],
   "source": [
    "scaler = StandardScaler().fit(X_train)\n",
    "X_train_scaled = scaler.transform(X_train)\n",
    "X_test_scaled = scaler.transform(X_test)\n",
    "X_2_scaled=scaler.transform(X_2)"
   ]
  },
  {
   "cell_type": "markdown",
   "metadata": {},
   "source": [
    "Create a Logistic Regression Model (Scaled Data) & Print the Model Score"
   ]
  },
  {
   "cell_type": "code",
   "execution_count": null,
   "metadata": {},
   "outputs": [],
   "source": [
    "classifier.fit(X_train_scaled, y_train)\n",
    "print(f\"Training Data Score: {classifier.score(X_train_scaled, y_train)}\")\n",
    "print(f\"Testing Data Score (from training set): {classifier.score(X_test_scaled, y_test)}\")\n",
    "print(f'First Quarter 2020 fit: {classifier.score(X_2_scaled, y_2)}')"
   ]
  },
  {
   "cell_type": "code",
   "execution_count": null,
   "metadata": {},
   "outputs": [],
   "source": [
    "# Set the Vars\n",
    "train_logistic_scaled = classifier.score(X_train_scaled, y_train)\n",
    "test_logistic_scaled = classifier.score(X_test_scaled, y_test)\n",
    "Q1_2020_logistic_scaled = classifier.score(X_2_scaled, y_2)"
   ]
  },
  {
   "cell_type": "code",
   "execution_count": null,
   "metadata": {},
   "outputs": [],
   "source": [
    "Create a Random Forest Classifier Model (Scaled Data) & Print the Model Score"
   ]
  },
  {
   "cell_type": "code",
   "execution_count": null,
   "metadata": {},
   "outputs": [],
   "source": [
    "# rfc = RandomForestClassifier(random_state=7, n_estimators=500).fit(X_train_scaled, y_train)\n",
    "# print(f\"Training Data Score: {clf.score(X_train_scaled, y_train)}\")\n",
    "# print(f\"Testing Data Score (from training set): {clf.score(X_test_scaled, y_test)}\")\n",
    "# print(f'First Quarter 2020 fit: {clf.score(X_2_scaled, y_2)}')"
   ]
  },
  {
   "cell_type": "code",
   "execution_count": null,
   "metadata": {},
   "outputs": [],
   "source": [
    "train_rfc_scaled = rfc.score(X_train_scaled, y_train)\n",
    "test_rfc_scaled = rfc.score(X_test_scaled, y_test)\n",
    "Q1_2020_rfc_scaled = rfc.score(X_2_scaled, y_2)"
   ]
  },
  {
   "cell_type": "code",
   "execution_count": null,
   "metadata": {},
   "outputs": [],
   "source": [
    "# Create a Data Frame that holds the Results\n",
    "results = {'data_set': ['2019_training', '2019_test', '2020_Q1'], 'LogReg_Unscaled': [train_logistic, test_logistic, Q1_2020_logistic],\n",
    "    'RandomForest_Unscaled': [train_rfc, test_rfc, Q1_2020_rfc], 'LogReg_Scaled': [train_logistic_scaled, test_logistic_scaled, Q1_2020_logistic_scaled],\n",
    "    'RandomForest_Scaled': [train_rfc_scaled, test_rfc_scaled, Q1_2020_rfc_scaled]}\n",
    "results_df = pd.DataFrame(data=results)\n",
    "results_df"
   ]
  },
  {
   "cell_type": "code",
   "execution_count": null,
   "metadata": {},
   "outputs": [],
   "source": []
  },
  {
   "cell_type": "code",
   "execution_count": null,
   "metadata": {},
   "outputs": [],
   "source": []
  }
 ],
 "metadata": {
  "kernelspec": {
   "display_name": "Python 3",
   "language": "python",
   "name": "python3"
  },
  "language_info": {
   "codemirror_mode": {
    "name": "ipython",
    "version": 3
   },
   "file_extension": ".py",
   "mimetype": "text/x-python",
   "name": "python",
   "nbconvert_exporter": "python",
   "pygments_lexer": "ipython3",
   "version": "3.8.5"
  }
 },
 "nbformat": 4,
 "nbformat_minor": 4
}
